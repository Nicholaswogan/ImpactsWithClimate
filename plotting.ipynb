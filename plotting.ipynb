{
 "cells": [
  {
   "cell_type": "code",
   "execution_count": 1,
   "id": "aba91fa8",
   "metadata": {},
   "outputs": [],
   "source": [
    "from ImpactAtmosphere import SteamAtm\n",
    "from ImpactAtmosphere import EvolveAtm as ev\n",
    "from clima import WaterAdiabatClimate\n",
    "from photochem import EvoAtmosphere, zahnle_earth, io\n",
    "\n",
    "import numpy as np\n",
    "from matplotlib import pyplot as plt\n",
    "\n",
    "from threadpoolctl import threadpool_limits\n",
    "threadpool_limits(limits=1);\n",
    "\n",
    "import impact_simulations as imp"
   ]
  },
  {
   "cell_type": "code",
   "execution_count": null,
   "id": "611c5c9f",
   "metadata": {},
   "outputs": [],
   "source": []
  },
  {
   "cell_type": "code",
   "execution_count": null,
   "id": "76e2b211",
   "metadata": {},
   "outputs": [],
   "source": []
  },
  {
   "cell_type": "code",
   "execution_count": 2,
   "id": "2bc27fef",
   "metadata": {},
   "outputs": [],
   "source": [
    "params = imp.Ceres_nominal()"
   ]
  },
  {
   "cell_type": "code",
   "execution_count": 11,
   "id": "97e74a3f",
   "metadata": {},
   "outputs": [
    {
     "name": "stdout",
     "output_type": "stream",
     "text": [
      "Integration successful.                 \n",
      "timescale of hydrogen escape = 0.35 Myrs\n"
     ]
    }
   ],
   "source": [
    "init = params['init']\n",
    "N_H2O_ocean = init['N_H2O_ocean']\n",
    "N_CO2 = init['N_CO2']\n",
    "N_N2  = init['N_N2']\n",
    "M_i = init['M_i']\n",
    "stm = SteamAtm('zahnle_earth_ct.yaml')\n",
    "sol_stm = stm.impact(N_H2O_ocean,N_CO2,N_N2,M_i)\n",
    "\n",
    "# 0-D model\n",
    "init_atm = stm.init_for_integrate(sol_stm)\n",
    "sol_atm = ev.integrate(init_atm,rtol=1e-9)\n",
    "\n",
    "yr = 365*24*60*60\n",
    "ind = np.argmin(np.abs(sol_atm['H2']*sol_atm['Ntot']/(sol_atm['H2'][0]*sol_atm['Ntot'][0]) - 0.8))\n",
    "print(\"timescale of hydrogen escape =\",'%.2f'%(sol_atm['time'][ind]/yr/1e6),'Myrs')"
   ]
  },
  {
   "cell_type": "code",
   "execution_count": null,
   "id": "c3c2045b",
   "metadata": {},
   "outputs": [],
   "source": []
  },
  {
   "cell_type": "code",
   "execution_count": 20,
   "id": "0f77033d",
   "metadata": {},
   "outputs": [],
   "source": [
    "\n",
    "pc = EvoAtmosphere(zahnle_earth,\\\n",
    "                params['outfile']+\"_settings.yaml\",\\\n",
    "                \"input/Sun_4.0Ga.txt\",\\\n",
    "                params['outfile']+\"_atmosphere.txt\")"
   ]
  },
  {
   "cell_type": "code",
   "execution_count": 6,
   "id": "1aa98490",
   "metadata": {},
   "outputs": [],
   "source": [
    "sol1 = io.evo_read_evolve_output(params['outfile']+\".dat\")\n",
    "sol_pc = io.reformat_output_dict(sol1)"
   ]
  },
  {
   "cell_type": "code",
   "execution_count": null,
   "id": "82349476",
   "metadata": {},
   "outputs": [],
   "source": []
  },
  {
   "cell_type": "code",
   "execution_count": 42,
   "id": "245d436e",
   "metadata": {},
   "outputs": [
    {
     "data": {
      "image/png": "[encoded data removed]",
      "text/plain": [
       "<Figure size 504x360 with 1 Axes>"
      ]
     },
     "metadata": {
      "needs_background": "light"
     },
     "output_type": "display_data"
    }
   ],
   "source": [
    "sol1 = io.evo_read_evolve_output(params['outfile']+\".dat\")\n",
    "sol_pc = io.reformat_output_dict(sol1)\n",
    "\n",
    "\n",
    "plt.rcParams.update({'font.size': 15})\n",
    "fig,ax = plt.subplots(1,1,figsize=[7,5])\n",
    "\n",
    "yr = 365*24*60*60\n",
    "species = ['H2']\n",
    "for sp in species:\n",
    "    SP = np.zeros(len(sol_pc['time']))\n",
    "    for i in range(len(sol_pc['time'])):\n",
    "        dz = (sol1['alt'][1,i]-sol1['alt'][0,i])*1e5\n",
    "        SP[i] = np.sum(sol_pc[sp][:,i])*dz\n",
    "    ax.plot(sol_pc['time']/yr,SP,'-',label=sp)\n",
    "\n",
    "ax.grid()\n",
    "ax.legend(ncol=2,bbox_to_anchor=(1,1.0),loc='upper left')\n",
    "ax.set_yscale('log')\n",
    "ax.set_xscale('log')\n",
    "# ax.set_xlim(1e7,5e13)\n",
    "# ax.set_ylim(1e15,6e25)\n",
    "\n",
    "plt.show()"
   ]
  },
  {
   "cell_type": "code",
   "execution_count": null,
   "id": "e1bfdf17",
   "metadata": {},
   "outputs": [],
   "source": []
  },
  {
   "cell_type": "code",
   "execution_count": 27,
   "id": "6435f8bd",
   "metadata": {},
   "outputs": [
    {
     "name": "stdout",
     "output_type": "stream",
     "text": [
      "384\r"
     ]
    }
   ],
   "source": [
    "sol1 = io.evo_read_evolve_output(params['outfile']+\".dat\")\n",
    "sol_pc = io.reformat_output_dict(sol1\n",
    "\n",
    "T_surf = np.empty(len(sol1['time']))\n",
    "for i in range(len(T_surf)):\n",
    "    pc.regrid_prep_atmosphere(sol1['usol'][:,:,i],sol1['top_atmos'][i])\n",
    "    T_surf[i] = pc.T_surf\n",
    "    print(i,end='\\r')"
   ]
  },
  {
   "cell_type": "code",
   "execution_count": 41,
   "id": "4b8120c5",
   "metadata": {},
   "outputs": [
    {
     "name": "stdout",
     "output_type": "stream",
     "text": [
      "1.9926867211841348 84253416.75019765\n",
      "0.9882528453889096 85972874.23489556\n"
     ]
    }
   ],
   "source": [
    "time = 2\n",
    "j = np.argmin(np.abs(sol_pc['time']/yr-time))\n",
    "print(sol_pc['time'][j]/yr,sol1['top_atmos'][j])\n",
    "\n",
    "time = 1\n",
    "j = np.argmin(np.abs(sol_pc['time']/yr-time))\n",
    "print(sol_pc['time'][j]/yr,sol1['top_atmos'][j])"
   ]
  },
  {
   "cell_type": "code",
   "execution_count": 37,
   "id": "378cbfeb",
   "metadata": {},
   "outputs": [
    {
     "data": {
      "text/plain": [
       "84253416.75019765"
      ]
     },
     "execution_count": 37,
     "metadata": {},
     "output_type": "execute_result"
    }
   ],
   "source": [
    "sol1['top_atmos'][j]"
   ]
  },
  {
   "cell_type": "code",
   "execution_count": null,
   "id": "a539334b",
   "metadata": {},
   "outputs": [],
   "source": []
  },
  {
   "cell_type": "code",
   "execution_count": 34,
   "id": "d52f6bc7",
   "metadata": {},
   "outputs": [
    {
     "data": {
      "image/png": "[encoded data removed]",
      "text/plain": [
       "<Figure size 504x360 with 1 Axes>"
      ]
     },
     "metadata": {
      "needs_background": "light"
     },
     "output_type": "display_data"
    }
   ],
   "source": [
    "plt.rcParams.update({'font.size': 15})\n",
    "fig,ax = plt.subplots(1,1,figsize=[7,5])\n",
    "\n",
    "yr = 365*24*60*60\n",
    "ax.plot(sol_pc['time']/yr,T_surf,'-')\n",
    "\n",
    "ax.grid()\n",
    "# ax.set_yscale('log')\n",
    "ax.set_xscale('log')\n",
    "ax.set_xlim(.1,1e1)\n",
    "# ax.set_ylim(300,312)\n",
    "\n",
    "plt.show()"
   ]
  },
  {
   "cell_type": "code",
   "execution_count": null,
   "id": "3286534d",
   "metadata": {},
   "outputs": [],
   "source": []
  },
  {
   "cell_type": "code",
   "execution_count": 54,
   "id": "c8c6c585",
   "metadata": {},
   "outputs": [
    {
     "data": {
      "image/png": "[encoded data removed]",
      "text/plain": [
       "<Figure size 504x360 with 1 Axes>"
      ]
     },
     "metadata": {
      "needs_background": "light"
     },
     "output_type": "display_data"
    }
   ],
   "source": [
    "sol1 = io.evo_read_evolve_output(params['outfile']+\".dat\")\n",
    "sol_pc = io.reformat_output_dict(sol1)\n",
    "\n",
    "plt.rcParams.update({'font.size': 15})\n",
    "fig,ax = plt.subplots(1,1,figsize=[7,5])\n",
    "\n",
    "yr = 365*24*30*30\n",
    "\n",
    "\n",
    "species = ['H2','N2','CO2','H2O','CH4','HCN']\n",
    "# species = sol1['species_names']\n",
    "\n",
    "i = -1\n",
    "den = np.sum(sol1['usol'][:,:,i],axis=0)\n",
    "pc.regrid_prep_atmosphere(sol1['usol'][:,:,i],sol1['top_atmos'][i])\n",
    "for sp in species:\n",
    "    ax.plot(sol_pc[sp][:,i]/den,sol_pc['alt'][:,i],label=sp)\n",
    "\n",
    "\n",
    "ax.grid()\n",
    "ax.legend(ncol=2,bbox_to_anchor=(1,1.0),loc='upper left')\n",
    "ax.set_xscale('log')\n",
    "ax.set_xlim(1e-15,1.3)\n",
    "ax.set_ylim(0,856)\n",
    "message = 'Time = '+'%.5e'%(sol_pc['time'][i])+' s' \\\n",
    "          +'\\nSurface Pressure = '+'%.5f'%pc.var.surface_pressure+' bar' \\\n",
    "          +'\\nSurface Temperature = '+'%.1f'%pc.T_surf+' K'\n",
    "ax.text(0.02, 1.04, message, \\\n",
    "            size = 15,ha='left', va='bottom',transform=ax.transAxes)\n",
    "ax.set_ylabel('Altitude (km)')\n",
    "ax.set_xlabel('Mixing Ratio')\n",
    "\n",
    "plt.show()"
   ]
  },
  {
   "cell_type": "code",
   "execution_count": 46,
   "id": "9b0a9633",
   "metadata": {},
   "outputs": [
    {
     "data": {
      "text/plain": [
       "1.4253168551258326"
      ]
     },
     "execution_count": 46,
     "metadata": {},
     "output_type": "execute_result"
    }
   ],
   "source": []
  },
  {
   "cell_type": "code",
   "execution_count": 47,
   "id": "38ee176e",
   "metadata": {},
   "outputs": [
    {
     "data": {
      "text/plain": [
       "1.5405473682615918"
      ]
     },
     "execution_count": 47,
     "metadata": {},
     "output_type": "execute_result"
    }
   ],
   "source": [
    "pc.var.surface_pressure"
   ]
  },
  {
   "cell_type": "code",
   "execution_count": null,
   "id": "5e7623d8",
   "metadata": {},
   "outputs": [],
   "source": []
  },
  {
   "cell_type": "code",
   "execution_count": 2,
   "id": "2e1ce239",
   "metadata": {},
   "outputs": [
    {
     "name": "stdout",
     "output_type": "stream",
     "text": [
      "Integration successful.                 \n"
     ]
    }
   ],
   "source": [
    "N_H2O_ocean = 15.0e3\n",
    "N_CO2 = 23.*0.1\n",
    "N_N2  = 36.\n",
    "M_i = 2e24\n",
    "stm = SteamAtm('zahnle_earth_ct.yaml')\n",
    "sol_stm = stm.impact(N_H2O_ocean,N_CO2,N_N2,M_i)"
   ]
  },
  {
   "cell_type": "code",
   "execution_count": 3,
   "id": "a9a26a64",
   "metadata": {},
   "outputs": [],
   "source": [
    "c = WaterAdiabatClimate('input/adiabat_species.yaml', \\\n",
    "                        'input/adiabat_settings.yaml', \\\n",
    "                        'input/Sun_4.0Ga.txt')"
   ]
  },
  {
   "cell_type": "code",
   "execution_count": 15,
   "id": "c2a1ca76",
   "metadata": {},
   "outputs": [],
   "source": [
    "N_i = np.empty(len(c.species_names))\n",
    "for i,sp in enumerate(c.species_names):\n",
    "    N_i[i] = sol_stm[sp][-1]*sol_stm['Ntot'][-1]"
   ]
  },
  {
   "cell_type": "code",
   "execution_count": 19,
   "id": "60121422",
   "metadata": {},
   "outputs": [],
   "source": [
    "c.RH = 0.7\n",
    "T_guess = 430\n",
    "T = c.surface_temperature_column(N_i, T_guess=T_guess)\n",
    "c.to_regular_grid()"
   ]
  },
  {
   "cell_type": "code",
   "execution_count": null,
   "id": "2a39af0e",
   "metadata": {},
   "outputs": [],
   "source": [
    "c.out2atmosphere.txt()"
   ]
  },
  {
   "cell_type": "code",
   "execution_count": null,
   "id": "00319cac",
   "metadata": {},
   "outputs": [],
   "source": []
  },
  {
   "cell_type": "code",
   "execution_count": null,
   "id": "3a812f14",
   "metadata": {},
   "outputs": [],
   "source": []
  },
  {
   "cell_type": "code",
   "execution_count": 50,
   "id": "d1229033",
   "metadata": {},
   "outputs": [],
   "source": [
    "from photochem.utils._format import FormatSettings_main, yaml, MyDumper, Loader\n",
    "\n",
    "def make_atmosphere_txt(c, sol, atmosphere_out, eddy, RH, P_top, T_trop, T_guess, zero_out):\n",
    "    N_i = np.empty(len(c.species_names))\n",
    "    for i,sp in enumerate(c.species_names):\n",
    "        if sp in zero_out:\n",
    "            N_i[i] = 1.0e-20\n",
    "        else:\n",
    "            N_i[i] = sol[sp][-1]*sol['Ntot'][-1]\n",
    "    c.RH = RH\n",
    "    c.P_top = P_top\n",
    "    c.T_trop = c.T_trop\n",
    "    T = c.surface_temperature_column(N_i, T_guess=T_guess) \n",
    "    eddy_ = np.ones(len(c.z))*eddy \n",
    "    c.out2atmosphere_txt(atmosphere_out, eddy_)    \n",
    "\n",
    "def make_settings(infile, outfile, ztop, nz, RH, rainfall_rate, trop_alt):\n",
    "\n",
    "    fil = open(infile,'r')\n",
    "    data = yaml.load(fil,Loader=Loader)\n",
    "    fil.close()\n",
    "\n",
    "    data['atmosphere-grid']['bottom'] = 0.0\n",
    "    data['atmosphere-grid']['top'] = float(ztop)\n",
    "    data['atmosphere-grid']['number-of-layers'] = int(nz)\n",
    "    \n",
    "    data['planet']['water']['relative-humidity'] = float(RH)\n",
    "    \n",
    "    if rainfall_rate > 0:\n",
    "        data['planet']['water']['gas-rainout'] = True\n",
    "        data['planet']['water']['rainfall-rate'] = float(rainfall_rate)\n",
    "        data['planet']['water']['tropopause-altitude'] = float(trop_alt)\n",
    "    else:\n",
    "        data['planet']['water']['gas-rainout'] = False    \n",
    "    \n",
    "    data = FormatSettings_main(data)\n",
    "\n",
    "    fil = open(outfile,'w')\n",
    "    yaml.dump(data,fil,Dumper=MyDumper,sort_keys=False,width=70)\n",
    "    fil.close()\n",
    "    \n",
    "def couple2photochem(c, sol, settings_in, settings_out, atmosphere_out, \\\n",
    "                     eddy, RH, P_top, T_trop, T_guess, zero_out, nz, rainfall_rate):\n",
    "    make_atmosphere_txt(c, sol, atmosphere_out, eddy, RH, P_top, T_trop, T_guess, zero_out)\n",
    "    \n",
    "    ind = (c.T-c.T_trop==0).argmax()\n",
    "    trop_alt = c.z[ind]\n",
    "    \n",
    "    ztop = c.z[-1]+0.5*c.dz[-1]\n",
    "    \n",
    "    make_settings(settings_in, settings_out, ztop, nz, RH, rainfall_rate, trop_alt)\n"
   ]
  },
  {
   "cell_type": "code",
   "execution_count": null,
   "id": "bfe733f7",
   "metadata": {},
   "outputs": [],
   "source": []
  },
  {
   "cell_type": "code",
   "execution_count": 52,
   "id": "e666271e",
   "metadata": {},
   "outputs": [],
   "source": [
    "settings_in = \"input/settings_Hadean.yaml\"\n",
    "settings_out = \"settings_test.yaml\"\n",
    "atmosphere_out = 'atmosphere.txt'\n",
    "eddy = 1.0e6\n",
    "RH = 1\n",
    "P_top = 1e-4\n",
    "T_trop = 200\n",
    "T_guess = 400\n",
    "zero_out = ['NH3']\n",
    "nz = 100\n",
    "rainfall_rate = 1\n",
    "\n",
    "couple2photochem(c, sol_stm, settings_in, settings_out, atmosphere_out, \\\n",
    "                 eddy, RH, P_top, T_trop, T_guess, zero_out, nz, rainfall_rate)"
   ]
  },
  {
   "cell_type": "code",
   "execution_count": null,
   "id": "f08dbd55",
   "metadata": {},
   "outputs": [],
   "source": []
  },
  {
   "cell_type": "code",
   "execution_count": 54,
   "id": "3218a87e",
   "metadata": {},
   "outputs": [],
   "source": [
    "pc = EvoAtmosphere(zahnle_earth, \\\n",
    "                  settings_out, \\\n",
    "                  'input/Sun_4.0Ga.txt', \\\n",
    "                  atmosphere_out)"
   ]
  },
  {
   "cell_type": "code",
   "execution_count": 60,
   "id": "dfdbde81",
   "metadata": {},
   "outputs": [
    {
     "data": {
      "text/plain": [
       "19.346856254136778"
      ]
     },
     "execution_count": 60,
     "metadata": {},
     "output_type": "execute_result"
    }
   ],
   "source": [
    "pc.var.surface_pressure"
   ]
  },
  {
   "cell_type": "code",
   "execution_count": 76,
   "id": "8864c1fa",
   "metadata": {},
   "outputs": [
    {
     "data": {
      "text/plain": [
       "4.78517525601787e+26"
      ]
     },
     "execution_count": 76,
     "metadata": {},
     "output_type": "execute_result"
    }
   ],
   "source": [
    "np.sum(c.densities[:,c.species_names.index('H2O')]*c.dz)"
   ]
  },
  {
   "cell_type": "code",
   "execution_count": 77,
   "id": "42e1885f",
   "metadata": {},
   "outputs": [
    {
     "data": {
      "text/plain": [
       "4.785175256017869e+26"
      ]
     },
     "execution_count": 77,
     "metadata": {},
     "output_type": "execute_result"
    }
   ],
   "source": [
    "dz = pc.var.z[1] - pc.var.z[0]\n",
    "ind = pc.dat.species_names.index('H2O')\n",
    "np.sum(pc.wrk.usol[ind,:]*dz)"
   ]
  },
  {
   "cell_type": "code",
   "execution_count": null,
   "id": "50bc31ce",
   "metadata": {},
   "outputs": [],
   "source": []
  },
  {
   "cell_type": "code",
   "execution_count": 45,
   "id": "d3261f20",
   "metadata": {},
   "outputs": [],
   "source": []
  },
  {
   "cell_type": "code",
   "execution_count": null,
   "id": "c1ce0b6d",
   "metadata": {},
   "outputs": [],
   "source": [
    "ind = (c.T-c.T_trop==0).argmax()\n",
    "trop_alt = c.z[ind]"
   ]
  },
  {
   "cell_type": "code",
   "execution_count": null,
   "id": "26a2a24b",
   "metadata": {},
   "outputs": [],
   "source": []
  },
  {
   "cell_type": "code",
   "execution_count": 46,
   "id": "dfabc46b",
   "metadata": {},
   "outputs": [],
   "source": [
    "def couple2photochem(c, sol, settings_in, settings_out, atmosphere_out, \\\n",
    "                     eddy, RH, P_top, T_trop, T_guess, zero_out, nz, rainfall_rate):\n",
    "    make_atmosphere_txt(c, sol, atmosphere_out, eddy, RH, P_top, T_trop, T_guess, zero_out)\n",
    "    \n",
    "    ind = (c.T-c.T_trop==0).argmax()\n",
    "    trop_alt = c.z[ind]\n",
    "    \n",
    "    ztop = c.z[-1]+0.5*c.dz[-1]\n",
    "    \n",
    "    make_settings(settings_in, settings_out, ztop, nz, rainfall_rate, trop_alt)\n",
    "    \n",
    "    \n",
    "    "
   ]
  },
  {
   "cell_type": "code",
   "execution_count": null,
   "id": "86a2f75c",
   "metadata": {},
   "outputs": [],
   "source": []
  },
  {
   "cell_type": "code",
   "execution_count": null,
   "id": "720a85a1",
   "metadata": {},
   "outputs": [],
   "source": []
  },
  {
   "cell_type": "code",
   "execution_count": 44,
   "id": "474a0401",
   "metadata": {},
   "outputs": [
    {
     "data": {
      "text/plain": [
       "616.4749369639746"
      ]
     },
     "execution_count": 44,
     "metadata": {},
     "output_type": "execute_result"
    }
   ],
   "source": []
  },
  {
   "cell_type": "code",
   "execution_count": 20,
   "id": "a2145f0d",
   "metadata": {},
   "outputs": [
    {
     "data": {
      "image/png": "[encoded data removed]",
      "text/plain": [
       "<Figure size 504x360 with 1 Axes>"
      ]
     },
     "metadata": {},
     "output_type": "display_data"
    }
   ],
   "source": [
    "plt.rcParams.update({'font.size': 18})\n",
    "fig,ax = plt.subplots(1,1,figsize=[7,5])\n",
    "fig.patch.set_facecolor(\"w\")\n",
    "ax.plot(c.T,c.z/1e5)\n",
    "ax.grid()\n",
    "plt.show()"
   ]
  },
  {
   "cell_type": "code",
   "execution_count": 21,
   "id": "05383761",
   "metadata": {},
   "outputs": [
    {
     "data": {
      "image/png": "[encoded data removed]",
      "text/plain": [
       "<Figure size 504x360 with 1 Axes>"
      ]
     },
     "metadata": {},
     "output_type": "display_data"
    }
   ],
   "source": [
    "plt.rcParams.update({'font.size': 18})\n",
    "fig,ax = plt.subplots(1,1,figsize=[7,5])\n",
    "fig.patch.set_facecolor(\"w\")\n",
    "\n",
    "for i in range(len(c.species_names)):\n",
    "    ax.plot(c.f_i[:,i],c.z/1e5,label=c.species_names[i])\n",
    "\n",
    "ax.grid()\n",
    "ax.legend(ncol=1,bbox_to_anchor=(1.02,1.0),loc='upper left')\n",
    "\n",
    "ax.set_xscale('log')\n",
    "\n",
    "plt.show()"
   ]
  },
  {
   "cell_type": "code",
   "execution_count": null,
   "id": "1347d6c5",
   "metadata": {},
   "outputs": [],
   "source": []
  }
 ],
 "metadata": {
  "kernelspec": {
   "display_name": "Python 3 (ipykernel)",
   "language": "python",
   "name": "python3"
  },
  "language_info": {
   "codemirror_mode": {
    "name": "ipython",
    "version": 3
   },
   "file_extension": ".py",
   "mimetype": "text/x-python",
   "name": "python",
   "nbconvert_exporter": "python",
   "pygments_lexer": "ipython3",
   "version": "3.9.13"
  }
 },
 "nbformat": 4,
 "nbformat_minor": 5
}
