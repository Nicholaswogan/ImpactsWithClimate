{
 "cells": [
  {
   "cell_type": "code",
   "execution_count": 1,
   "id": "2d2a9ee3",
   "metadata": {},
   "outputs": [],
   "source": [
    "from ImpactAtmosphere import SteamAtm\n",
    "from ImpactAtmosphere import EvolveAtm as ev\n",
    "from clima import WaterAdiabatClimate\n",
    "from photochem import EvoAtmosphere, zahnle_earth, io\n",
    "\n",
    "import numpy as np\n",
    "from matplotlib import pyplot as plt\n",
    "\n",
    "from threadpoolctl import threadpool_limits\n",
    "threadpool_limits(limits=1);\n",
    "\n",
    "import impact_simulations as imp\n",
    "cons = imp.cons"
   ]
  },
  {
   "cell_type": "code",
   "execution_count": null,
   "id": "99380937",
   "metadata": {},
   "outputs": [],
   "source": []
  },
  {
   "cell_type": "code",
   "execution_count": 2,
   "id": "ee7fb41e",
   "metadata": {},
   "outputs": [],
   "source": [
    "params = imp.nominal()"
   ]
  },
  {
   "cell_type": "code",
   "execution_count": 3,
   "id": "6d096658",
   "metadata": {},
   "outputs": [
    {
     "name": "stdout",
     "output_type": "stream",
     "text": [
      "Integration successful.                 \n",
      "timescale of hydrogen escape = 0.35 Myrs\n"
     ]
    }
   ],
   "source": [
    "init = params['init']\n",
    "N_H2O_ocean = init['N_H2O_ocean']\n",
    "N_CO2 = init['N_CO2']\n",
    "N_N2  = init['N_N2']\n",
    "M_i = init['M_i']\n",
    "stm = SteamAtm('zahnle_earth_ct.yaml')\n",
    "sol_stm = stm.impact(N_H2O_ocean,N_CO2,N_N2,M_i)\n",
    "\n",
    "# 0-D model\n",
    "init_atm = stm.init_for_integrate(sol_stm)\n",
    "sol_atm = ev.integrate(init_atm,rtol=1e-9)\n",
    "\n",
    "ind = np.argmin(np.abs(sol_atm['H2']*sol_atm['Ntot']/(sol_atm['H2'][0]*sol_atm['Ntot'][0]) - 0.8))\n",
    "print(\"timescale of hydrogen escape =\",'%.2f'%(sol_atm['time'][ind]/cons.yr/1e6),'Myrs')"
   ]
  },
  {
   "cell_type": "code",
   "execution_count": 15,
   "id": "9d7bc896",
   "metadata": {},
   "outputs": [],
   "source": [
    "pc = EvoAtmosphere(zahnle_earth,\\\n",
    "                params['outfile']+\"_settings.yaml\",\\\n",
    "                \"input/Sun_4.0Ga.txt\",\\\n",
    "                params['outfile']+\"_atmosphere.txt\")\n",
    "\n",
    "c = WaterAdiabatClimate('input/adiabat_species.yaml', \\\n",
    "                        'input/adiabat_settings.yaml', \\\n",
    "                        'input/Sun_4.0Ga.txt')"
   ]
  },
  {
   "cell_type": "code",
   "execution_count": 18,
   "id": "2e021bc3",
   "metadata": {},
   "outputs": [],
   "source": [
    "N_i = np.empty(len(c.species_names))\n",
    "for i,sp in enumerate(c.species_names):\n",
    "    if sp in params['zero_out']:\n",
    "        N_i[i] = 1.0e-20\n",
    "    else:\n",
    "        N_i[i] = sol_stm[sp][-1]*sol_stm['Ntot'][-1]\n",
    "    \n",
    "c.RH = params['RH']\n",
    "c.P_top = params['P_top']\n",
    "c.T_trop = params['T_trop']\n",
    "T_guess = 350\n",
    "T = c.surface_temperature_column(N_i, T_guess=T_guess)"
   ]
  },
  {
   "cell_type": "code",
   "execution_count": null,
   "id": "cf1ef6e9",
   "metadata": {},
   "outputs": [],
   "source": []
  },
  {
   "cell_type": "code",
   "execution_count": 48,
   "id": "dcd3d519",
   "metadata": {},
   "outputs": [
    {
     "data": {
      "image/png": "[encoded data removed]",
      "text/plain": [
       "<Figure size 504x360 with 1 Axes>"
      ]
     },
     "metadata": {
      "needs_background": "light"
     },
     "output_type": "display_data"
    }
   ],
   "source": [
    "sol1 = io.evo_read_evolve_output(params['outfile']+\".dat\")\n",
    "sol_pc = io.reformat_output_dict(sol1)\n",
    "\n",
    "\n",
    "plt.rcParams.update({'font.size': 15})\n",
    "fig,ax = plt.subplots(1,1,figsize=[7,5])\n",
    "\n",
    "species = ['H2','N2']\n",
    "for sp in species:\n",
    "    SP = np.zeros(len(sol_pc['time']))\n",
    "    for i in range(len(sol_pc['time'])):\n",
    "        dz = (sol1['alt'][1,i]-sol1['alt'][0,i])*1e5\n",
    "        SP[i] = np.sum(sol_pc[sp][:,i])*dz\n",
    "    ax.plot(sol_pc['time']/cons.yr,SP,'-',label=sp)\n",
    "\n",
    "ax.grid()\n",
    "ax.legend(ncol=2,bbox_to_anchor=(1,1.0),loc='upper left')\n",
    "ax.set_yscale('log')\n",
    "ax.set_xscale('log')\n",
    "# ax.set_xlim(1e7,5e13)\n",
    "# ax.set_ylim(1e15,6e25)\n",
    "\n",
    "plt.show()"
   ]
  },
  {
   "cell_type": "code",
   "execution_count": null,
   "id": "10f90231",
   "metadata": {},
   "outputs": [],
   "source": []
  },
  {
   "cell_type": "code",
   "execution_count": 13,
   "id": "224d2947",
   "metadata": {},
   "outputs": [
    {
     "name": "stdout",
     "output_type": "stream",
     "text": [
      "82\r"
     ]
    },
    {
     "ename": "KeyboardInterrupt",
     "evalue": "",
     "output_type": "error",
     "traceback": [
      "\u001b[0;31m---------------------------------------------------------------------------\u001b[0m",
      "\u001b[0;31mKeyboardInterrupt\u001b[0m                         Traceback (most recent call last)",
      "Input \u001b[0;32mIn [13]\u001b[0m, in \u001b[0;36m<cell line: 5>\u001b[0;34m()\u001b[0m\n\u001b[1;32m      4\u001b[0m T_surf \u001b[38;5;241m=\u001b[39m np\u001b[38;5;241m.\u001b[39mempty(\u001b[38;5;28mlen\u001b[39m(sol1[\u001b[38;5;124m'\u001b[39m\u001b[38;5;124mtime\u001b[39m\u001b[38;5;124m'\u001b[39m]))\n\u001b[1;32m      5\u001b[0m \u001b[38;5;28;01mfor\u001b[39;00m i \u001b[38;5;129;01min\u001b[39;00m \u001b[38;5;28mrange\u001b[39m(\u001b[38;5;28mlen\u001b[39m(T_surf)):\n\u001b[0;32m----> 6\u001b[0m     \u001b[43mpc\u001b[49m\u001b[38;5;241;43m.\u001b[39;49m\u001b[43mregrid_prep_atmosphere\u001b[49m\u001b[43m(\u001b[49m\u001b[43msol1\u001b[49m\u001b[43m[\u001b[49m\u001b[38;5;124;43m'\u001b[39;49m\u001b[38;5;124;43musol\u001b[39;49m\u001b[38;5;124;43m'\u001b[39;49m\u001b[43m]\u001b[49m\u001b[43m[\u001b[49m\u001b[43m:\u001b[49m\u001b[43m,\u001b[49m\u001b[43m:\u001b[49m\u001b[43m,\u001b[49m\u001b[43mi\u001b[49m\u001b[43m]\u001b[49m\u001b[43m,\u001b[49m\u001b[43msol1\u001b[49m\u001b[43m[\u001b[49m\u001b[38;5;124;43m'\u001b[39;49m\u001b[38;5;124;43mtop_atmos\u001b[39;49m\u001b[38;5;124;43m'\u001b[39;49m\u001b[43m]\u001b[49m\u001b[43m[\u001b[49m\u001b[43mi\u001b[49m\u001b[43m]\u001b[49m\u001b[43m)\u001b[49m\n\u001b[1;32m      7\u001b[0m     T_surf[i] \u001b[38;5;241m=\u001b[39m pc\u001b[38;5;241m.\u001b[39mT_surf\n\u001b[1;32m      8\u001b[0m     \u001b[38;5;28mprint\u001b[39m(i,end\u001b[38;5;241m=\u001b[39m\u001b[38;5;124m'\u001b[39m\u001b[38;5;130;01m\\r\u001b[39;00m\u001b[38;5;124m'\u001b[39m)\n",
      "\u001b[0;31mKeyboardInterrupt\u001b[0m: "
     ]
    }
   ],
   "source": [
    "sol1 = io.evo_read_evolve_output(params['outfile']+\".dat\")\n",
    "sol_pc = io.reformat_output_dict(sol1)\n",
    "\n",
    "T_surf = np.empty(len(sol1['time']))\n",
    "for i in range(len(T_surf)):\n",
    "    pc.regrid_prep_atmosphere(sol1['usol'][:,:,i],sol1['top_atmos'][i])\n",
    "    T_surf[i] = pc.T_surf\n",
    "    print(i,end='\\r')"
   ]
  },
  {
   "cell_type": "code",
   "execution_count": null,
   "id": "fbf60549",
   "metadata": {},
   "outputs": [],
   "source": []
  },
  {
   "cell_type": "code",
   "execution_count": 34,
   "id": "4ed38828",
   "metadata": {},
   "outputs": [
    {
     "data": {
      "image/png": "[encoded data removed]",
      "text/plain": [
       "<Figure size 504x360 with 1 Axes>"
      ]
     },
     "metadata": {
      "needs_background": "light"
     },
     "output_type": "display_data"
    }
   ],
   "source": [
    "plt.rcParams.update({'font.size': 15})\n",
    "fig,ax = plt.subplots(1,1,figsize=[7,5])\n",
    "\n",
    "ax.plot(sol_pc['time']/cons.yr,T_surf,'-')\n",
    "\n",
    "ax.grid()\n",
    "# ax.set_yscale('log')\n",
    "ax.set_xscale('log')\n",
    "ax.set_xlim(.1,1e1)\n",
    "# ax.set_ylim(300,312)\n",
    "\n",
    "plt.show()"
   ]
  },
  {
   "cell_type": "code",
   "execution_count": 26,
   "id": "fcb13713",
   "metadata": {},
   "outputs": [
    {
     "data": {
      "text/plain": [
       "855.4300986372097"
      ]
     },
     "execution_count": 26,
     "metadata": {},
     "output_type": "execute_result"
    }
   ],
   "source": [
    "sol_pc['alt'][-1,0]"
   ]
  },
  {
   "cell_type": "code",
   "execution_count": null,
   "id": "51bbda34",
   "metadata": {},
   "outputs": [],
   "source": []
  },
  {
   "cell_type": "code",
   "execution_count": 47,
   "id": "ba49c88a",
   "metadata": {},
   "outputs": [
    {
     "data": {
      "image/png": "[encoded data removed]",
      "text/plain": [
       "<Figure size 504x360 with 1 Axes>"
      ]
     },
     "metadata": {
      "needs_background": "light"
     },
     "output_type": "display_data"
    }
   ],
   "source": [
    "sol1 = io.evo_read_evolve_output(params['outfile']+\".dat\")\n",
    "sol_pc = io.reformat_output_dict(sol1)\n",
    "\n",
    "plt.rcParams.update({'font.size': 15})\n",
    "fig,ax = plt.subplots(1,1,figsize=[7,5])\n",
    "\n",
    "species = ['H2','N2','CO2','H2O','CH4','HCN']\n",
    "\n",
    "i = -1\n",
    "den = np.sum(sol1['usol'][:,:,i],axis=0)\n",
    "pc.regrid_prep_atmosphere(sol1['usol'][:,:,i],sol1['top_atmos'][i])\n",
    "for sp in species:\n",
    "    ax.plot(sol_pc[sp][:,i]/den,sol_pc['alt'][:,i],label=sp)\n",
    "\n",
    "ax.grid()\n",
    "ax.legend(ncol=2,bbox_to_anchor=(1,1.0),loc='upper left')\n",
    "ax.set_xscale('log')\n",
    "ax.set_xlim(1e-15,1.3)\n",
    "ax.set_ylim(0,856)\n",
    "message = 'Time = '+'%.5e'%(sol_pc['time'][i])+' s' \\\n",
    "          +'\\nSurface Pressure = '+'%.5f'%pc.var.surface_pressure+' bar' \\\n",
    "          +'\\nSurface Temperature = '+'%.1f'%pc.T_surf+' K'\n",
    "ax.text(0.02, 1.04, message, \\\n",
    "            size = 15,ha='left', va='bottom',transform=ax.transAxes)\n",
    "ax.set_ylabel('Altitude (km)')\n",
    "ax.set_xlabel('Mixing Ratio')\n",
    "\n",
    "plt.show()"
   ]
  },
  {
   "cell_type": "code",
   "execution_count": null,
   "id": "bd34417d",
   "metadata": {},
   "outputs": [],
   "source": []
  },
  {
   "cell_type": "code",
   "execution_count": null,
   "id": "5feb5a27",
   "metadata": {},
   "outputs": [],
   "source": []
  },
  {
   "cell_type": "code",
   "execution_count": null,
   "id": "3bd3890d",
   "metadata": {},
   "outputs": [],
   "source": []
  },
  {
   "cell_type": "code",
   "execution_count": null,
   "id": "9a5d946e",
   "metadata": {},
   "outputs": [],
   "source": []
  },
  {
   "cell_type": "code",
   "execution_count": null,
   "id": "4a2ddd00",
   "metadata": {},
   "outputs": [],
   "source": []
  },
  {
   "cell_type": "code",
   "execution_count": null,
   "id": "fa69fbf8",
   "metadata": {},
   "outputs": [],
   "source": []
  },
  {
   "cell_type": "code",
   "execution_count": null,
   "id": "5a016205",
   "metadata": {},
   "outputs": [],
   "source": []
  },
  {
   "cell_type": "code",
   "execution_count": 2,
   "id": "727e763e",
   "metadata": {},
   "outputs": [
    {
     "name": "stdout",
     "output_type": "stream",
     "text": [
      "Integration successful.                 \n"
     ]
    }
   ],
   "source": [
    "N_H2O_ocean = 15.0e3\n",
    "N_CO2 = 23.*0.1\n",
    "N_N2  = 36.\n",
    "M_i = 2e24\n",
    "stm = SteamAtm('zahnle_earth_ct.yaml')\n",
    "sol_stm = stm.impact(N_H2O_ocean,N_CO2,N_N2,M_i)"
   ]
  },
  {
   "cell_type": "code",
   "execution_count": 3,
   "id": "86a9abf1",
   "metadata": {},
   "outputs": [],
   "source": [
    "c = WaterAdiabatClimate('input/adiabat_species.yaml', \\\n",
    "                        'input/adiabat_settings.yaml', \\\n",
    "                        'input/Sun_4.0Ga.txt')"
   ]
  },
  {
   "cell_type": "code",
   "execution_count": 15,
   "id": "0cbe342b",
   "metadata": {},
   "outputs": [],
   "source": [
    "N_i = np.empty(len(c.species_names))\n",
    "for i,sp in enumerate(c.species_names):\n",
    "    N_i[i] = sol_stm[sp][-1]*sol_stm['Ntot'][-1]"
   ]
  },
  {
   "cell_type": "code",
   "execution_count": 19,
   "id": "017aa51b",
   "metadata": {},
   "outputs": [],
   "source": [
    "c.RH = 0.7\n",
    "T_guess = 430\n",
    "T = c.surface_temperature_column(N_i, T_guess=T_guess)\n",
    "c.to_regular_grid()"
   ]
  },
  {
   "cell_type": "code",
   "execution_count": null,
   "id": "32a49185",
   "metadata": {},
   "outputs": [],
   "source": [
    "c.out2atmosphere.txt()"
   ]
  },
  {
   "cell_type": "code",
   "execution_count": null,
   "id": "6604fb91",
   "metadata": {},
   "outputs": [],
   "source": []
  },
  {
   "cell_type": "code",
   "execution_count": null,
   "id": "cedf1f65",
   "metadata": {},
   "outputs": [],
   "source": []
  },
  {
   "cell_type": "code",
   "execution_count": 50,
   "id": "6ccd53f9",
   "metadata": {},
   "outputs": [],
   "source": [
    "from photochem.utils._format import FormatSettings_main, yaml, MyDumper, Loader\n",
    "\n",
    "def make_atmosphere_txt(c, sol, atmosphere_out, eddy, RH, P_top, T_trop, T_guess, zero_out):\n",
    "    N_i = np.empty(len(c.species_names))\n",
    "    for i,sp in enumerate(c.species_names):\n",
    "        if sp in zero_out:\n",
    "            N_i[i] = 1.0e-20\n",
    "        else:\n",
    "            N_i[i] = sol[sp][-1]*sol['Ntot'][-1]\n",
    "    c.RH = RH\n",
    "    c.P_top = P_top\n",
    "    c.T_trop = c.T_trop\n",
    "    T = c.surface_temperature_column(N_i, T_guess=T_guess) \n",
    "    eddy_ = np.ones(len(c.z))*eddy \n",
    "    c.out2atmosphere_txt(atmosphere_out, eddy_)    \n",
    "\n",
    "def make_settings(infile, outfile, ztop, nz, RH, rainfall_rate, trop_alt):\n",
    "\n",
    "    fil = open(infile,'r')\n",
    "    data = yaml.load(fil,Loader=Loader)\n",
    "    fil.close()\n",
    "\n",
    "    data['atmosphere-grid']['bottom'] = 0.0\n",
    "    data['atmosphere-grid']['top'] = float(ztop)\n",
    "    data['atmosphere-grid']['number-of-layers'] = int(nz)\n",
    "    \n",
    "    data['planet']['water']['relative-humidity'] = float(RH)\n",
    "    \n",
    "    if rainfall_rate > 0:\n",
    "        data['planet']['water']['gas-rainout'] = True\n",
    "        data['planet']['water']['rainfall-rate'] = float(rainfall_rate)\n",
    "        data['planet']['water']['tropopause-altitude'] = float(trop_alt)\n",
    "    else:\n",
    "        data['planet']['water']['gas-rainout'] = False    \n",
    "    \n",
    "    data = FormatSettings_main(data)\n",
    "\n",
    "    fil = open(outfile,'w')\n",
    "    yaml.dump(data,fil,Dumper=MyDumper,sort_keys=False,width=70)\n",
    "    fil.close()\n",
    "    \n",
    "def couple2photochem(c, sol, settings_in, settings_out, atmosphere_out, \\\n",
    "                     eddy, RH, P_top, T_trop, T_guess, zero_out, nz, rainfall_rate):\n",
    "    make_atmosphere_txt(c, sol, atmosphere_out, eddy, RH, P_top, T_trop, T_guess, zero_out)\n",
    "    \n",
    "    ind = (c.T-c.T_trop==0).argmax()\n",
    "    trop_alt = c.z[ind]\n",
    "    \n",
    "    ztop = c.z[-1]+0.5*c.dz[-1]\n",
    "    \n",
    "    make_settings(settings_in, settings_out, ztop, nz, RH, rainfall_rate, trop_alt)\n"
   ]
  },
  {
   "cell_type": "code",
   "execution_count": null,
   "id": "95f3b46b",
   "metadata": {},
   "outputs": [],
   "source": []
  },
  {
   "cell_type": "code",
   "execution_count": 52,
   "id": "02b04889",
   "metadata": {},
   "outputs": [],
   "source": [
    "settings_in = \"input/settings_Hadean.yaml\"\n",
    "settings_out = \"settings_test.yaml\"\n",
    "atmosphere_out = 'atmosphere.txt'\n",
    "eddy = 1.0e6\n",
    "RH = 1\n",
    "P_top = 1e-4\n",
    "T_trop = 200\n",
    "T_guess = 400\n",
    "zero_out = ['NH3']\n",
    "nz = 100\n",
    "rainfall_rate = 1\n",
    "\n",
    "couple2photochem(c, sol_stm, settings_in, settings_out, atmosphere_out, \\\n",
    "                 eddy, RH, P_top, T_trop, T_guess, zero_out, nz, rainfall_rate)"
   ]
  },
  {
   "cell_type": "code",
   "execution_count": null,
   "id": "60a04c72",
   "metadata": {},
   "outputs": [],
   "source": []
  },
  {
   "cell_type": "code",
   "execution_count": 54,
   "id": "d366187e",
   "metadata": {},
   "outputs": [],
   "source": [
    "pc = EvoAtmosphere(zahnle_earth, \\\n",
    "                  settings_out, \\\n",
    "                  'input/Sun_4.0Ga.txt', \\\n",
    "                  atmosphere_out)"
   ]
  },
  {
   "cell_type": "code",
   "execution_count": 60,
   "id": "2011aa02",
   "metadata": {},
   "outputs": [
    {
     "data": {
      "text/plain": [
       "19.346856254136778"
      ]
     },
     "execution_count": 60,
     "metadata": {},
     "output_type": "execute_result"
    }
   ],
   "source": [
    "pc.var.surface_pressure"
   ]
  },
  {
   "cell_type": "code",
   "execution_count": 76,
   "id": "f8b39d39",
   "metadata": {},
   "outputs": [
    {
     "data": {
      "text/plain": [
       "4.78517525601787e+26"
      ]
     },
     "execution_count": 76,
     "metadata": {},
     "output_type": "execute_result"
    }
   ],
   "source": [
    "np.sum(c.densities[:,c.species_names.index('H2O')]*c.dz)"
   ]
  },
  {
   "cell_type": "code",
   "execution_count": 77,
   "id": "a6cf2677",
   "metadata": {},
   "outputs": [
    {
     "data": {
      "text/plain": [
       "4.785175256017869e+26"
      ]
     },
     "execution_count": 77,
     "metadata": {},
     "output_type": "execute_result"
    }
   ],
   "source": [
    "dz = pc.var.z[1] - pc.var.z[0]\n",
    "ind = pc.dat.species_names.index('H2O')\n",
    "np.sum(pc.wrk.usol[ind,:]*dz)"
   ]
  },
  {
   "cell_type": "code",
   "execution_count": null,
   "id": "2c9a3683",
   "metadata": {},
   "outputs": [],
   "source": []
  },
  {
   "cell_type": "code",
   "execution_count": 45,
   "id": "8bc70aa6",
   "metadata": {},
   "outputs": [],
   "source": []
  },
  {
   "cell_type": "code",
   "execution_count": null,
   "id": "1bdf289a",
   "metadata": {},
   "outputs": [],
   "source": [
    "ind = (c.T-c.T_trop==0).argmax()\n",
    "trop_alt = c.z[ind]"
   ]
  },
  {
   "cell_type": "code",
   "execution_count": null,
   "id": "50a553d5",
   "metadata": {},
   "outputs": [],
   "source": []
  },
  {
   "cell_type": "code",
   "execution_count": 46,
   "id": "28eef10d",
   "metadata": {},
   "outputs": [],
   "source": [
    "def couple2photochem(c, sol, settings_in, settings_out, atmosphere_out, \\\n",
    "                     eddy, RH, P_top, T_trop, T_guess, zero_out, nz, rainfall_rate):\n",
    "    make_atmosphere_txt(c, sol, atmosphere_out, eddy, RH, P_top, T_trop, T_guess, zero_out)\n",
    "    \n",
    "    ind = (c.T-c.T_trop==0).argmax()\n",
    "    trop_alt = c.z[ind]\n",
    "    \n",
    "    ztop = c.z[-1]+0.5*c.dz[-1]\n",
    "    \n",
    "    make_settings(settings_in, settings_out, ztop, nz, rainfall_rate, trop_alt)\n",
    "    \n",
    "    \n",
    "    "
   ]
  },
  {
   "cell_type": "code",
   "execution_count": null,
   "id": "6688d855",
   "metadata": {},
   "outputs": [],
   "source": []
  },
  {
   "cell_type": "code",
   "execution_count": null,
   "id": "ae10169e",
   "metadata": {},
   "outputs": [],
   "source": []
  },
  {
   "cell_type": "code",
   "execution_count": 44,
   "id": "b7da768f",
   "metadata": {},
   "outputs": [
    {
     "data": {
      "text/plain": [
       "616.4749369639746"
      ]
     },
     "execution_count": 44,
     "metadata": {},
     "output_type": "execute_result"
    }
   ],
   "source": []
  },
  {
   "cell_type": "code",
   "execution_count": 20,
   "id": "17e52122",
   "metadata": {},
   "outputs": [
    {
     "data": {
      "image/png": "[encoded data removed]",
      "text/plain": [
       "<Figure size 504x360 with 1 Axes>"
      ]
     },
     "metadata": {},
     "output_type": "display_data"
    }
   ],
   "source": [
    "plt.rcParams.update({'font.size': 18})\n",
    "fig,ax = plt.subplots(1,1,figsize=[7,5])\n",
    "fig.patch.set_facecolor(\"w\")\n",
    "ax.plot(c.T,c.z/1e5)\n",
    "ax.grid()\n",
    "plt.show()"
   ]
  },
  {
   "cell_type": "code",
   "execution_count": 21,
   "id": "821b64cf",
   "metadata": {},
   "outputs": [
    {
     "data": {
      "image/png": "[encoded data removed]",
      "text/plain": [
       "<Figure size 504x360 with 1 Axes>"
      ]
     },
     "metadata": {},
     "output_type": "display_data"
    }
   ],
   "source": [
    "plt.rcParams.update({'font.size': 18})\n",
    "fig,ax = plt.subplots(1,1,figsize=[7,5])\n",
    "fig.patch.set_facecolor(\"w\")\n",
    "\n",
    "for i in range(len(c.species_names)):\n",
    "    ax.plot(c.f_i[:,i],c.z/1e5,label=c.species_names[i])\n",
    "\n",
    "ax.grid()\n",
    "ax.legend(ncol=1,bbox_to_anchor=(1.02,1.0),loc='upper left')\n",
    "\n",
    "ax.set_xscale('log')\n",
    "\n",
    "plt.show()"
   ]
  },
  {
   "cell_type": "code",
   "execution_count": null,
   "id": "40b7a469",
   "metadata": {},
   "outputs": [],
   "source": []
  }
 ],
 "metadata": {
  "kernelspec": {
   "display_name": "Python 3 (ipykernel)",
   "language": "python",
   "name": "python3"
  },
  "language_info": {
   "codemirror_mode": {
    "name": "ipython",
    "version": 3
   },
   "file_extension": ".py",
   "mimetype": "text/x-python",
   "name": "python",
   "nbconvert_exporter": "python",
   "pygments_lexer": "ipython3",
   "version": "3.9.13"
  }
 },
 "nbformat": 4,
 "nbformat_minor": 5
}
